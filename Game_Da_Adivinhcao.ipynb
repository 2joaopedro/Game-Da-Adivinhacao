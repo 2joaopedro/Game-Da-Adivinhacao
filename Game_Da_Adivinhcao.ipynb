{
  "nbformat": 4,
  "nbformat_minor": 0,
  "metadata": {
    "colab": {
      "name": "Game-Da-Adivinhcao",
      "provenance": [],
      "collapsed_sections": [],
      "authorship_tag": "ABX9TyM5b1a9jtBQ9DKKC1EGLK65",
      "include_colab_link": true
    },
    "kernelspec": {
      "name": "python3",
      "display_name": "Python 3"
    },
    "language_info": {
      "name": "python"
    }
  },
  "cells": [
    {
      "cell_type": "markdown",
      "metadata": {
        "id": "view-in-github",
        "colab_type": "text"
      },
      "source": [
        "<a href=\"https://colab.research.google.com/github/2joaopedro/Game-Da-Adivinhacao/blob/main/Game_Da_Adivinhcao.ipynb\" target=\"_parent\"><img src=\"https://colab.research.google.com/assets/colab-badge.svg\" alt=\"Open In Colab\"/></a>"
      ]
    },
    {
      "cell_type": "code",
      "execution_count": null,
      "metadata": {
        "id": "4ArncV44g9tI"
      },
      "outputs": [],
      "source": [
        "import random\n",
        "\n",
        "numeroSecreto = random.randrange(1, 101)\n",
        "totalDeTentativas = 0\n",
        "pontos = 1000\n",
        "\n",
        "print(\"---------------------------------\")\n",
        "print(\"Bem vindo ao jogo de Adivinhação!\")\n",
        "print(\"---------------------------------\")\n",
        "\n",
        "print(\"Qual nível de dificuldade?\")\n",
        "print(\"(1) Fácil (2) Médio (3) Difícil\")\n",
        "nivel = int(input(\"Defina o nível: \"))\n",
        "\n",
        "if(nivel == 1):\n",
        "    totalDeTentativas = 20\n",
        "elif(nivel == 2):\n",
        "    totalDeTentativas = 10\n",
        "else:\n",
        "    totalDeTentativas = 5\n",
        "\n",
        "for rodada in range(1, totalDeTentativas + 1):\n",
        "    print(f\"Tentativa {rodada} de {totalDeTentativas}\")\n",
        "\n",
        "    chute = int(input(\"Digite um número entre 1 e 100: \"))\n",
        "\n",
        "    if(chute < 1 or chute > 100):\n",
        "        print(\"Você deve digitar um número entre 1 e 100!\")\n",
        "        continue\n",
        "\n",
        "    if(chute == numeroSecreto):\n",
        "        print(f\"Você acertou e fez {pontos} pontos!\")\n",
        "        break\n",
        "    else:\n",
        "        if(chute > numeroSecreto):\n",
        "            print(\"Você errou! O seu chute foi maior do que o número secreto.\")\n",
        "        elif(chute < numeroSecreto):\n",
        "            print(\"Você errou! O seu chute foi menor do que o número secreto.\")\n",
        "            pontosPerdidos = abs(numeroSecreto - chute)\n",
        "            pontos = pontos - pontosPerdidos"
      ]
    }
  ]
}